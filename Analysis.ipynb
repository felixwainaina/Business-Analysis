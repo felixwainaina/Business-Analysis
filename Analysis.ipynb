{
 "cells": [
  {
   "cell_type": "code",
   "execution_count": null,
   "outputs": [],
   "source": [
    "# Import necessary libraries\n",
    "import pandas as pd\n",
    "import numpy as np\n",
    "import matplotlib.pyplot as plt\n",
    "import seaborn as sns\n",
    "from statsmodels.tsa.holtwinters import ExponentialSmoothing\n"
   ],
   "metadata": {
    "collapsed": false
   }
  },
  {
   "cell_type": "code",
   "execution_count": null,
   "outputs": [],
   "source": [
    "## Load the dataset\n",
    "# Replace 'superstore_sales.csv' with the path to your dataset file\n",
    "df = pd.read_csv('superstore_sales.csv')\n",
    "\n"
   ],
   "metadata": {
    "collapsed": false
   }
  },
  {
   "cell_type": "code",
   "execution_count": null,
   "outputs": [],
   "source": [
    "# Data Cleaning and Preparation\n",
    "\n",
    "# Display the initial dataset\n",
    "print(\"Initial Dataset:\")\n",
    "print(df.head())\n",
    "\n"
   ],
   "metadata": {
    "collapsed": false
   }
  },
  {
   "cell_type": "code",
   "execution_count": null,
   "outputs": [],
   "source": [
    "# Remove Duplicates\n",
    "duplicates = df.duplicated().sum()\n",
    "print(f\"\\nNumber of duplicate rows: {duplicates}\")\n",
    "df = df.drop_duplicates()\n",
    "print(f\"Dataset shape after removing duplicates: {df.shape}\")\n",
    "\n"
   ],
   "metadata": {
    "collapsed": false
   }
  },
  {
   "cell_type": "code",
   "execution_count": null,
   "outputs": [],
   "source": [
    "# Correct Errors in Data Entries\n",
    "negative_sales = df[df['Sales'] < 0]\n",
    "negative_quantity = df[df['Quantity'] < 0]\n",
    "print(f\"\\nNumber of transactions with negative sales: {len(negative_sales)}\")\n",
    "print(f\"Number of transactions with negative quantity: {len(negative_quantity)}\")\n",
    "df = df[df['Sales'] >= 0]  # Remove negative sales\n",
    "df = df[df['Quantity'] >= 0]  # Remove negative quantity\n",
    "\n"
   ],
   "metadata": {
    "collapsed": false
   }
  },
  {
   "cell_type": "code",
   "execution_count": null,
   "outputs": [],
   "source": [
    "# Handle Missing Values\n",
    "missing_values = df.isnull().sum()\n",
    "print(\"\\nMissing values in each column:\")\n",
    "print(missing_values[missing_values > 0])\n",
    "df['Sales'].fillna(df['Sales'].mean(), inplace=True)\n",
    "df['Quantity'].fillna(df['Quantity'].mean(), inplace=True)\n",
    "df['Profit'].fillna(df['Profit'].mean(), inplace=True)\n",
    "df['Segment'].fillna(df['Segment'].mode()[0], inplace=True)\n",
    "df['Ship Mode'].fillna(df['Ship Mode'].mode()[0], inplace=True)\n",
    "print(f\"\\nDataset shape after handling missing values: {df.shape}\")\n",
    "\n"
   ],
   "metadata": {
    "collapsed": false
   }
  },
  {
   "cell_type": "code",
   "execution_count": null,
   "outputs": [],
   "source": [
    "# Create Additional Columns for Time-Based Analysis\n",
    "df['Order Date'] = pd.to_datetime(df['Order Date'])\n",
    "df['Order Year'] = df['Order Date'].dt.year\n",
    "df['Order Quarter'] = df['Order Date'].dt.quarter\n",
    "\n"
   ],
   "metadata": {
    "collapsed": false
   }
  },
  {
   "cell_type": "code",
   "execution_count": null,
   "outputs": [],
   "source": [
    "# Data Modeling\n",
    "\n",
    "# Create Products Table\n",
    "products = df[['Product ID', 'Product Name', 'Category', 'Sub-Category']].drop_duplicates()\n",
    "products.reset_index(drop=True, inplace=True)\n",
    "\n"
   ],
   "metadata": {
    "collapsed": false
   }
  },
  {
   "cell_type": "code",
   "execution_count": null,
   "outputs": [],
   "source": [
    "# Create Customers Table\n",
    "customers = df[['Customer ID', 'Customer Name', 'Segment', 'Country', 'City', 'State']].drop_duplicates()\n",
    "customers.reset_index(drop=True, inplace=True)\n",
    "\n"
   ],
   "metadata": {
    "collapsed": false
   }
  },
  {
   "cell_type": "code",
   "execution_count": null,
   "outputs": [],
   "source": [
    "# Create Orders Table\n",
    "orders = df[['Order ID', 'Order Date', 'Ship Date', 'Customer ID', 'Product ID', 'Sales', 'Quantity', 'Profit']].drop_duplicates()\n",
    "orders.reset_index(drop=True, inplace=True)\n",
    "\n"
   ],
   "metadata": {
    "collapsed": false
   }
  },
  {
   "cell_type": "code",
   "execution_count": null,
   "outputs": [],
   "source": [
    "# Create Shipping Table\n",
    "shipping = df[['Ship Mode']].drop_duplicates()\n",
    "shipping.reset_index(drop=True, inplace=True)\n",
    "shipping['Shipping Cost'] = [10.00 if mode == \"Standard Class\" else 20.00 for mode in shipping['Ship Mode']]\n",
    "\n"
   ],
   "metadata": {
    "collapsed": false
   }
  },
  {
   "cell_type": "code",
   "execution_count": null,
   "outputs": [],
   "source": [
    "# Create Regions Table\n",
    "regions = df[['Region', 'State']].drop_duplicates()\n",
    "regions.reset_index(drop=True, inplace=True)\n",
    "\n"
   ],
   "metadata": {
    "collapsed": false
   }
  },
  {
   "cell_type": "code",
   "execution_count": null,
   "outputs": [],
   "source": [
    "# Metrics Selection\n",
    "\n",
    "# Calculate Total Sales Revenue\n",
    "total_sales_revenue = df['Sales'].sum()\n",
    "print(f\"\\nTotal Sales Revenue: ${total_sales_revenue:.2f}\")\n",
    "\n"
   ],
   "metadata": {
    "collapsed": false
   }
  },
  {
   "cell_type": "code",
   "execution_count": null,
   "outputs": [],
   "source": [
    "# Calculate Profit Margin\n",
    "df['Profit Margin'] = (df['Profit'] / df['Sales']) * 100\n",
    "average_profit_margin = df['Profit Margin'].mean()\n",
    "print(f\"Average Profit Margin: {average_profit_margin:.2f}%\")\n",
    "\n"
   ],
   "metadata": {
    "collapsed": false
   }
  },
  {
   "cell_type": "code",
   "execution_count": null,
   "outputs": [],
   "source": [
    "# Sales by Category\n",
    "sales_by_category = df.groupby('Category')['Sales'].sum().reset_index()\n",
    "sales_by_category.sort_values(by='Sales', ascending=False, inplace=True)\n",
    "\n"
   ],
   "metadata": {
    "collapsed": false
   }
  },
  {
   "cell_type": "code",
   "execution_count": null,
   "outputs": [],
   "source": [
    "# Sales by Region\n",
    "sales_by_region = df.groupby('Region')['Sales'].sum().reset_index()\n",
    "sales_by_region.sort_values(by='Sales', ascending=False, inplace=True)\n",
    "\n"
   ],
   "metadata": {
    "collapsed": false
   }
  },
  {
   "cell_type": "code",
   "execution_count": null,
   "outputs": [],
   "source": [
    "# Customer Segmentation\n",
    "sales_by_segment = df.groupby('Segment')['Sales'].sum().reset_index()\n",
    "sales_by_segment.sort_values(by='Sales', ascending=False, inplace=True)\n",
    "\n"
   ],
   "metadata": {
    "collapsed": false
   }
  },
  {
   "cell_type": "code",
   "execution_count": null,
   "outputs": [],
   "source": [
    "# Visualization of Metrics\n",
    "\n",
    "# Plotting Sales by Category\n",
    "plt.figure(figsize=(10, 6))\n",
    "sns.barplot(x='Sales', y='Category', data=sales_by_category, palette='viridis')\n",
    "plt.title('Sales by Category')\n",
    "plt.xlabel('Total Sales')\n",
    "plt.ylabel('Category')\n",
    "plt.show()\n",
    "\n"
   ],
   "metadata": {
    "collapsed": false
   }
  },
  {
   "cell_type": "code",
   "execution_count": null,
   "outputs": [],
   "source": [
    "# Plotting Sales by Region\n",
    "plt.figure(figsize=(10, 6))\n",
    "sns.barplot(x='Sales', y='Region', data=sales_by_region, palette='lightgreen')\n",
    "plt.title('Sales by Region')\n",
    "plt.xlabel('Total Sales')\n",
    "plt.ylabel('Region')\n",
    "plt.show()\n",
    "\n"
   ],
   "metadata": {
    "collapsed": false
   }
  },
  {
   "cell_type": "code",
   "execution_count": null,
   "outputs": [],
   "source": [
    "# Plotting Sales by Customer Segment\n",
    "plt.figure(figsize=(10, 6))\n",
    "sns.barplot(x='Sales', y='Segment', data=sales_by_segment, palette='Blues')\n",
    "plt.title('Sales by Customer Segment')\n",
    "plt.xlabel('Total Sales')\n",
    "plt.ylabel('Customer Segment')\n",
    "plt.show()\n",
    "\n"
   ],
   "metadata": {
    "collapsed": false
   }
  },
  {
   "cell_type": "code",
   "execution_count": null,
   "outputs": [],
   "source": [
    "# Analysis and Interpretation\n",
    "\n",
    "## Sales Trends: Identify Seasonal Trends or Peak Sales Periods\n",
    "monthly_sales = df.resample('M')['Sales'].sum()\n",
    "plt.figure(figsize=(12, 6))\n",
    "plt.plot(monthly_sales, marker='o')\n",
    "plt.title('Monthly Sales Trend')\n",
    "plt.xlabel('Month')\n",
    "plt.ylabel('Total Sales')\n",
    "plt.xticks(rotation=45)\n",
    "plt.grid()\n",
    "plt.show()\n",
    "\n"
   ],
   "metadata": {
    "collapsed": false
   }
  },
  {
   "cell_type": "code",
   "execution_count": null,
   "outputs": [],
   "source": [
    "## Identify peak sales periods\n",
    "peak_month = monthly_sales.idxmax()\n",
    "peak_sales = monthly_sales.max()\n",
    "print(f\"Peak Sales Month: {peak_month.strftime('%B %Y')} with Sales: ${peak_sales:.2f}\")\n",
    "\n"
   ],
   "metadata": {
    "collapsed": false
   }
  },
  {
   "cell_type": "code",
   "execution_count": null,
   "outputs": [],
   "source": [
    "## Product Performance: Top Sellers and Underperforming Products\n",
    "top_products = df.groupby('Product Name')['Sales'].sum().nlargest(10).reset_index()\n",
    "underperforming_products = df.groupby('Product Name')['Sales'].sum().nsmallest(10).reset_index()\n",
    "\n",
    "plt.figure(figsize=(12, 6))\n",
    "sns.barplot(x='Sales', y='Product Name', data=top_products, palette='viridis')\n",
    "plt.title('Top 10 Selling Products')\n",
    "plt.xlabel('Total Sales')\n",
    "plt.ylabel('Product Name')\n",
    "plt.show()\n",
    "\n"
   ],
   "metadata": {
    "collapsed": false
   }
  },
  {
   "cell_type": "code",
   "execution_count": null,
   "outputs": [],
   "source": [
    "plt.figure(figsize=(12, 6))\n",
    "sns.barplot(x='Sales', y='Product Name', data=underperforming_products, palette='rocket')\n",
    "plt.title('Underperforming Products')\n",
    "plt.xlabel('Total Sales')\n",
    "plt.ylabel('Product Name')\n",
    "plt.show()\n",
    "\n"
   ],
   "metadata": {
    "collapsed": false
   }
  },
  {
   "cell_type": "code",
   "execution_count": null,
   "outputs": [],
   "source": [
    "## Customer Behavior: Purchasing Patterns Among Different Customer Segments\n",
    "sales_by_segment = df.groupby('Segment')['Sales'].sum().reset_index()\n",
    "\n",
    "plt.figure(figsize=(8, 5))\n",
    "sns.barplot(x='Segment', y='Sales', data=sales_by_segment, palette='Blues')\n",
    "plt.title('Sales by Customer Segment')\n",
    "plt.xlabel('Customer Segment')\n",
    "plt.ylabel('Total Sales')\n",
    "plt.show()\n",
    "\n"
   ],
   "metadata": {
    "collapsed": false
   }
  },
  {
   "cell_type": "code",
   "execution_count": null,
   "outputs": [],
   "source": [
    "# Recommendations\n",
    "\n",
    "print(\"\\nRecommendations:\")\n",
    "print(\"1. Tailor marketing efforts towards high-performing product categories.\")\n",
    "print(\"2. Focus on Consumer segment as it shows significant sales.\")\n",
    "print(\"3. Optimize stock levels based on sales forecasts to minimize stockouts.\")\n",
    "print(\"4. Adjust discount strategies based on their impact on profit margins.\")\n",
    "\n"
   ],
   "metadata": {
    "collapsed": false
   }
  },
  {
   "cell_type": "code",
   "execution_count": null,
   "outputs": [],
   "source": [
    "# Sales Forecasting\n",
    "\n",
    "## Implement Time Series Forecasting using Exponential Smoothing\n",
    "model = ExponentialSmoothing(monthly_sales, trend='add', seasonal='add', seasonal_periods=12)\n",
    "fit_model = model.fit()\n",
    "\n"
   ],
   "metadata": {
    "collapsed": false
   }
  },
  {
   "cell_type": "code",
   "execution_count": null,
   "outputs": [],
   "source": [
    "# Forecast future sales for the next 12 months\n",
    "forecast = fit_model.forecast(steps=12)\n",
    "forecast_index = pd.date_range(start=monthly_sales.index[-1] + pd.DateOffset(months=1), periods=12, freq='M')\n",
    "\n",
    "# Plotting the forecasted values along with historical data\n",
    "plt.figure(figsize=(12, 6))\n",
    "plt.plot(monthly_sales, label='Historical Sales', marker='o')\n",
    "plt.plot(forecast_index, forecast, label='Forecasted Sales', marker='o', color='orange')\n",
    "plt.title('Sales Forecast for Next 12 Months')\n",
    "plt.xlabel('Month')\n",
    "plt.ylabel('Total Sales')\n",
    "plt.legend()\n",
    "plt.grid()\n",
    "plt.show()\n",
    "\n"
   ],
   "metadata": {
    "collapsed": false
   }
  },
  {
   "cell_type": "code",
   "execution_count": null,
   "outputs": [],
   "source": [
    "# Continuous Improvement\n",
    "\n",
    "print(\"\\nContinuous Improvement Process:\")\n",
    "print(\"1. Regularly update datasets and refine analysis based on new data.\")\n",
    "print(\"2. Utilize feedback from stakeholders to adjust strategies as needed.\")"
   ],
   "metadata": {
    "collapsed": false
   }
  }
 ],
 "metadata": {
  "kernelspec": {
   "display_name": "Python 3",
   "language": "python",
   "name": "python3"
  },
  "language_info": {
   "codemirror_mode": {
    "name": "ipython",
    "version": 2
   },
   "file_extension": ".py",
   "mimetype": "text/x-python",
   "name": "python",
   "nbconvert_exporter": "python",
   "pygments_lexer": "ipython2",
   "version": "2.7.6"
  }
 },
 "nbformat": 4,
 "nbformat_minor": 0
}
